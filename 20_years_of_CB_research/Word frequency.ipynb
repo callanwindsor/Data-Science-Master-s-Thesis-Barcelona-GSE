{
 "cells": [
  {
   "cell_type": "markdown",
   "metadata": {},
   "source": [
    "# Examining word frequencies"
   ]
  },
  {
   "cell_type": "code",
   "execution_count": 1,
   "metadata": {},
   "outputs": [],
   "source": [
    "# import sys\n",
    "# !{sys.executable} -m pip install stop-words"
   ]
  },
  {
   "cell_type": "code",
   "execution_count": 2,
   "metadata": {},
   "outputs": [],
   "source": [
    "import pandas as pd\n",
    "import numpy as np\n",
    "import gensim\n",
    "from nltk.tokenize import word_tokenize\n",
    "from nltk.corpus import stopwords\n",
    "import nltk\n",
    "import matplotlib.pyplot as plt\n",
    "from wordcloud import WordCloud, STOPWORDS\n",
    "from collections import defaultdict # for word frequency\n",
    "import warnings \n",
    "warnings.filterwarnings('ignore')\n",
    "\n",
    "import pprint\n",
    "pp = pprint.PrettyPrinter(indent=4)"
   ]
  },
  {
   "cell_type": "code",
   "execution_count": 3,
   "metadata": {},
   "outputs": [],
   "source": [
    "data = pd.read_csv('data.csv')"
   ]
  },
  {
   "cell_type": "code",
   "execution_count": 4,
   "metadata": {},
   "outputs": [],
   "source": [
    "# add central bank identifiers\n",
    "def cb_id(s):\n",
    "    if 'Australia' in s:\n",
    "        return 'RBA'\n",
    "    elif 'US' in s:\n",
    "        return 'US'\n",
    "    elif 'European' in s:\n",
    "        return 'ECB'\n",
    "    elif 'Japan' in s:\n",
    "        return 'BoJ'\n",
    "    elif 'Canada' in s:\n",
    "        return 'Boc'\n",
    "    elif 'New Zealand' in s:\n",
    "        return 'RBNZ'\n",
    "    elif 'England' in s:\n",
    "        return 'BoE'\n",
    "    elif 'Sweden' in s:\n",
    "        return 'Riksbank'\n",
    "    elif 'Norges' in s:\n",
    "        return 'Norges'\n",
    "        \n",
    "data['Central_Bank'] = data.ID.map(cb_id)"
   ]
  },
  {
   "cell_type": "markdown",
   "metadata": {},
   "source": [
    "#### Some preliminary data cleaning\n",
    "* remove papers with missing abstracts\n",
    "* remove papers before 2000"
   ]
  },
  {
   "cell_type": "code",
   "execution_count": 5,
   "metadata": {},
   "outputs": [],
   "source": [
    "# remove papers where the abstract is not available\n",
    "data          = data[data.Abstract != 'No abstract available']\n",
    "data          = data[data.Abstract != 'No abstract available for this item']\n",
    "\n",
    "# remove papers before 1998\n",
    "data = data[data.Year > '1999']\n",
    "data = data[data.Year != \"undated\"]\n",
    "\n",
    "data.index = range(len(data))"
   ]
  },
  {
   "cell_type": "code",
   "execution_count": 6,
   "metadata": {},
   "outputs": [
    {
     "name": "stdout",
     "output_type": "stream",
     "text": [
      "ECB         2285\n",
      "US          1498\n",
      "Boc          895\n",
      "BoE          687\n",
      "Norges       335\n",
      "BoJ          281\n",
      "Riksbank     262\n",
      "RBA          210\n",
      "RBNZ         184\n",
      "Name: Central_Bank, dtype: int64\n",
      "\n",
      "6637\n"
     ]
    }
   ],
   "source": [
    "print(data.Central_Bank.value_counts())\n",
    "print()\n",
    "print(len(data))"
   ]
  },
  {
   "cell_type": "markdown",
   "metadata": {},
   "source": [
    "#### Pre and post GFC split"
   ]
  },
  {
   "cell_type": "code",
   "execution_count": 7,
   "metadata": {},
   "outputs": [],
   "source": [
    "# remove papers after 2009\n",
    "data_post_gfc = data[data.Year > '2007']\n",
    "\n",
    "# remove papers after 2009\n",
    "\n",
    "data_pre_gfc  = data[data.Year < '2008']"
   ]
  },
  {
   "cell_type": "markdown",
   "metadata": {},
   "source": [
    "#### Preprocessing functions\n",
    "* Here I define several functions, which allows me track the impact each pre-processing step has on the number of words\n",
    "* This is reported in a Table in the paper\n"
   ]
  },
  {
   "cell_type": "code",
   "execution_count": 8,
   "metadata": {},
   "outputs": [],
   "source": [
    "from nltk.tokenize import word_tokenize \n",
    "from nltk.stem.porter import PorterStemmer\n",
    "from stop_words import get_stop_words\n",
    "from nltk.corpus import stopwords\n",
    "import re\n",
    "from nltk.stem import WordNetLemmatizer\n",
    "wordnet_lemmatizer = WordNetLemmatizer()\n",
    "\n",
    "# create English stop words list\n",
    "en_stop1 = set(stopwords.words('english'))\n",
    "en_stop = set(stopwords.words('english'))\n",
    "# add context-specific stop words to list\n",
    "en_stop = en_stop.union([\"per\",\"cent\",\"one\",\"two\",\"three\",\"four\",\"five\",\"six\",\"seven\",\"eight\",\"nine\",\"use\",\n",
    "                         \"also\",\"paper\",\"results\",\"evidence\",\"suggests\",\"implies\",\"indicates\",\"jel\",\"find\",\n",
    "                         \"finding\",'hypothesis',\"classification\",\"area\",\"effect\",\"may\",\"could\",\"might\"\n",
    "                         ,\"canada\",\"canadian\",\"australia\",\"australian\",\"japan\",\"japanese\",\"new zealand\",\n",
    "                         \"swedish\",\"sweden\",\"norway\",\"norwegian\"])\n",
    "    \n",
    "def preprocess1(s):\n",
    "    \n",
    "    # make lower case\n",
    "    s = s.lower()\n",
    "    \n",
    "    # remove all numbers\n",
    "    s = re.sub(r'[0-9]+', '', s)\n",
    "    \n",
    "    # tokenize string\n",
    "    token_pattern=r\"(?u)\\b\\w\\w+\\b\"\n",
    "    token_pattern = re.compile(token_pattern)\n",
    "    s = token_pattern.findall(s)\n",
    "        \n",
    "    return s\n",
    "\n",
    "def preprocess2(s):\n",
    "    \n",
    "    # make lower case\n",
    "    s = s.lower()\n",
    "    \n",
    "    # remove all numbers\n",
    "    s = re.sub(r'[0-9]+', '', s)\n",
    "    \n",
    "    # tokenize string\n",
    "    token_pattern=r\"(?u)\\b\\w\\w+\\b\"\n",
    "    token_pattern = re.compile(token_pattern)\n",
    "    s = token_pattern.findall(s)\n",
    "\n",
    "    # remove stop words from tokens\n",
    "    s = [i for i in s if not i in en_stop1]\n",
    "        \n",
    "    return s\n",
    "\n",
    "def preprocess3(s):\n",
    "    \n",
    "    # make lower case\n",
    "    s = s.lower()\n",
    "    \n",
    "    # remove all numbers\n",
    "    s = re.sub(r'[0-9]+', '', s)\n",
    "    \n",
    "    # tokenize string\n",
    "    token_pattern=r\"(?u)\\b\\w\\w+\\b\"\n",
    "    token_pattern = re.compile(token_pattern)\n",
    "    s = token_pattern.findall(s)\n",
    "\n",
    "    # remove stop words from tokens\n",
    "    s = [i for i in s if not i in en_stop]\n",
    "        \n",
    "    return s\n",
    "    \n",
    "def preprocess4(s):\n",
    "    \n",
    "    # make lower case\n",
    "    s = s.lower()\n",
    "    \n",
    "    # remove all numbers\n",
    "    s = re.sub(r'[0-9]+', '', s)\n",
    "        \n",
    "    # create lemmatizer of class WordNetLemmatizer\n",
    "    lemmatizer = WordNetLemmatizer()\n",
    "    \n",
    "    # tokenize string\n",
    "    token_pattern=r\"(?u)\\b\\w\\w+\\b\"\n",
    "    token_pattern = re.compile(token_pattern)\n",
    "    s = token_pattern.findall(s)\n",
    "\n",
    "    # remove stop words from tokens\n",
    "    s = [i for i in s if not i in en_stop]\n",
    "    \n",
    "    # lemmatize words\n",
    "    s = [lemmatizer.lemmatize(i) for i in s] \n",
    "    \n",
    "    return s"
   ]
  },
  {
   "cell_type": "markdown",
   "metadata": {},
   "source": [
    "#### Examine word counts"
   ]
  },
  {
   "cell_type": "code",
   "execution_count": 9,
   "metadata": {},
   "outputs": [],
   "source": [
    "from operator import itemgetter\n",
    "\n",
    "abst1  = data.Abstract.map(preprocess1)\n",
    "\n",
    "freq1 = defaultdict(int)\n",
    "for sent in abst1:\n",
    "    for i in sent:\n",
    "        freq1[i] += 1\n",
    "len(freq1)\n",
    "\n",
    "freq1 = sorted(freq1.items(), key=itemgetter(1),reverse=True)\n",
    "freq1 = pd.DataFrame(freq1,columns=[\"word\",\"count\"])"
   ]
  },
  {
   "cell_type": "code",
   "execution_count": 10,
   "metadata": {},
   "outputs": [],
   "source": [
    "from operator import itemgetter\n",
    "\n",
    "abst2  = data.Abstract.map(preprocess2)\n",
    "\n",
    "freq2 = defaultdict(int)\n",
    "for sent in abst2:\n",
    "    for i in sent:\n",
    "        freq2[i] += 1\n",
    "len(freq2)\n",
    "\n",
    "freq2 = sorted(freq2.items(), key=itemgetter(1),reverse=True)\n",
    "freq2 = pd.DataFrame(freq2,columns=[\"word\",\"count\"])"
   ]
  },
  {
   "cell_type": "code",
   "execution_count": 11,
   "metadata": {},
   "outputs": [],
   "source": [
    "from operator import itemgetter\n",
    "\n",
    "abst3  = data.Abstract.map(preprocess3)\n",
    "\n",
    "freq3 = defaultdict(int)\n",
    "for sent in abst3:\n",
    "    for i in sent:\n",
    "        freq3[i] += 1\n",
    "len(freq3)\n",
    "\n",
    "freq3 = sorted(freq3.items(), key=itemgetter(1),reverse=True)\n",
    "freq3 = pd.DataFrame(freq3,columns=[\"word\",\"count\"])"
   ]
  },
  {
   "cell_type": "code",
   "execution_count": 12,
   "metadata": {},
   "outputs": [],
   "source": [
    "from operator import itemgetter\n",
    "\n",
    "abst4  = data.Abstract.map(preprocess4)\n",
    "\n",
    "freq4 = defaultdict(int)\n",
    "for sent in abst4:\n",
    "    for i in sent:\n",
    "        freq4[i] += 1\n",
    "\n",
    "freq4 = sorted(freq4.items(), key=itemgetter(1),reverse=True)\n",
    "freq4 = pd.DataFrame(freq4,columns=[\"word\",\"count\"])"
   ]
  },
  {
   "cell_type": "markdown",
   "metadata": {},
   "source": [
    "#### For the Table in the paper"
   ]
  },
  {
   "cell_type": "code",
   "execution_count": 13,
   "metadata": {},
   "outputs": [
    {
     "name": "stdout",
     "output_type": "stream",
     "text": [
      "923555 577729 546483 546483\n",
      "\n",
      "15159 15039 15000 13251\n"
     ]
    }
   ],
   "source": [
    "print(freq1[\"count\"].sum(),freq2[\"count\"].sum(),freq3[\"count\"].sum(),freq4[\"count\"].sum())\n",
    "print()\n",
    "print(len(freq1),len(freq2),len(freq3),len(freq4))"
   ]
  },
  {
   "cell_type": "markdown",
   "metadata": {},
   "source": [
    "#### Apply preprocessing"
   ]
  },
  {
   "cell_type": "code",
   "execution_count": 14,
   "metadata": {},
   "outputs": [],
   "source": [
    "abst_post_gfc = data_post_gfc.Abstract.map(preprocess4)\n",
    "abst_pre_gfc  = data_pre_gfc.Abstract.map(preprocess4)"
   ]
  },
  {
   "cell_type": "markdown",
   "metadata": {},
   "source": [
    "#### Create a dictionary with word frequencies"
   ]
  },
  {
   "cell_type": "code",
   "execution_count": 15,
   "metadata": {},
   "outputs": [
    {
     "name": "stdout",
     "output_type": "stream",
     "text": [
      "8694 11132\n"
     ]
    }
   ],
   "source": [
    "freq_post_gfc = defaultdict(int)\n",
    "for sent in abst_post_gfc:\n",
    "    for i in sent:\n",
    "        freq_post_gfc[i] += 1\n",
    "len(freq_post_gfc)\n",
    "\n",
    "freq_pre_gfc = defaultdict(int)\n",
    "for sent in abst_pre_gfc:\n",
    "    for i in sent:\n",
    "        freq_pre_gfc[i] += 1\n",
    "        \n",
    "print(len(freq_pre_gfc),len(freq_post_gfc))"
   ]
  },
  {
   "cell_type": "markdown",
   "metadata": {},
   "source": [
    "#### Create a list of tuples from dict. and sort"
   ]
  },
  {
   "cell_type": "code",
   "execution_count": 16,
   "metadata": {},
   "outputs": [],
   "source": [
    "from operator import itemgetter\n",
    "\n",
    "sort_freq_post_gfc = sorted(freq_post_gfc.items(), key=itemgetter(1),reverse=True)\n",
    "sort_freq_pre_gfc  = sorted(freq_pre_gfc.items(), key=itemgetter(1),reverse=True)"
   ]
  },
  {
   "cell_type": "markdown",
   "metadata": {},
   "source": [
    "#### Create pandas data frames"
   ]
  },
  {
   "cell_type": "code",
   "execution_count": 17,
   "metadata": {},
   "outputs": [],
   "source": [
    "# post GFC\n",
    "df_post               = pd.DataFrame(sort_freq_post_gfc,columns=[\"word\",\"count\"])\n",
    "df_post[\"share_word\"] = (df_post[\"count\"]/df_post[\"count\"].sum())*100\n",
    "\n",
    "# pre GFC\n",
    "df_pre                = pd.DataFrame(sort_freq_pre_gfc,columns=[\"word\",\"count\"])\n",
    "df_pre[\"share_word\"]  = (df_pre[\"count\"]/df_pre[\"count\"].sum())*100\n",
    "\n",
    "# combined\n",
    "df                    = pd.merge(df_post, df_pre,on='word')"
   ]
  },
  {
   "cell_type": "code",
   "execution_count": 18,
   "metadata": {},
   "outputs": [
    {
     "data": {
      "text/html": [
       "<div>\n",
       "<style scoped>\n",
       "    .dataframe tbody tr th:only-of-type {\n",
       "        vertical-align: middle;\n",
       "    }\n",
       "\n",
       "    .dataframe tbody tr th {\n",
       "        vertical-align: top;\n",
       "    }\n",
       "\n",
       "    .dataframe thead th {\n",
       "        text-align: right;\n",
       "    }\n",
       "</style>\n",
       "<table border=\"1\" class=\"dataframe\">\n",
       "  <thead>\n",
       "    <tr style=\"text-align: right;\">\n",
       "      <th></th>\n",
       "      <th>word</th>\n",
       "      <th>count_x</th>\n",
       "      <th>share_word_x</th>\n",
       "      <th>count_y</th>\n",
       "      <th>share_word_y</th>\n",
       "    </tr>\n",
       "  </thead>\n",
       "  <tbody>\n",
       "    <tr>\n",
       "      <th>0</th>\n",
       "      <td>model</td>\n",
       "      <td>4729</td>\n",
       "      <td>1.335306</td>\n",
       "      <td>2963</td>\n",
       "      <td>1.540565</td>\n",
       "    </tr>\n",
       "    <tr>\n",
       "      <th>1</th>\n",
       "      <td>bank</td>\n",
       "      <td>3566</td>\n",
       "      <td>1.006915</td>\n",
       "      <td>1458</td>\n",
       "      <td>0.758064</td>\n",
       "    </tr>\n",
       "    <tr>\n",
       "      <th>2</th>\n",
       "      <td>rate</td>\n",
       "      <td>3299</td>\n",
       "      <td>0.931524</td>\n",
       "      <td>2339</td>\n",
       "      <td>1.216126</td>\n",
       "    </tr>\n",
       "    <tr>\n",
       "      <th>3</th>\n",
       "      <td>policy</td>\n",
       "      <td>3110</td>\n",
       "      <td>0.878156</td>\n",
       "      <td>1921</td>\n",
       "      <td>0.998794</td>\n",
       "    </tr>\n",
       "    <tr>\n",
       "      <th>4</th>\n",
       "      <td>market</td>\n",
       "      <td>2997</td>\n",
       "      <td>0.846249</td>\n",
       "      <td>1619</td>\n",
       "      <td>0.841774</td>\n",
       "    </tr>\n",
       "  </tbody>\n",
       "</table>\n",
       "</div>"
      ],
      "text/plain": [
       "     word  count_x  share_word_x  count_y  share_word_y\n",
       "0   model     4729      1.335306     2963      1.540565\n",
       "1    bank     3566      1.006915     1458      0.758064\n",
       "2    rate     3299      0.931524     2339      1.216126\n",
       "3  policy     3110      0.878156     1921      0.998794\n",
       "4  market     2997      0.846249     1619      0.841774"
      ]
     },
     "execution_count": 18,
     "metadata": {},
     "output_type": "execute_result"
    }
   ],
   "source": [
    "df.head(5)"
   ]
  },
  {
   "cell_type": "code",
   "execution_count": 19,
   "metadata": {},
   "outputs": [
    {
     "data": {
      "image/png": "[encoded data removed]",
      "text/plain": [
       "<Figure size 576x576 with 1 Axes>"
      ]
     },
     "metadata": {
      "needs_background": "light"
     },
     "output_type": "display_data"
    }
   ],
   "source": [
    "plt.style.use('seaborn-bright')\n",
    "\n",
    "fig, ax = plt.subplots(figsize=(8,8))\n",
    "ind     = np.arange(len(df[:15]))\n",
    "width   = 0.4\n",
    "\n",
    "ax.barh(ind, df[\"share_word_x\"][:15], width, color='salmon', label='N')\n",
    "ax.barh(ind + width, df[\"share_word_y\"][:15], width, color='aquamarine', label='M')\n",
    "# ax.set_title('Top 25 words',fontsize=20)\n",
    "\n",
    "ax.set(yticks=ind + width, yticklabels=df[\"word\"][:15], ylim=[2*width - 1, len(df[:15])])\n",
    "ax.legend(['Post-crisis','Pre-crisis'],fontsize=16)\n",
    "\n",
    "ax.tick_params(axis = 'both', which = 'major', labelsize = 16)\n",
    "ax.set_xlabel('Share of all words (%)',fontsize=16)\n",
    "\n",
    "plt.tight_layout()\n",
    "plt.savefig('word_freq.pdf')\n",
    "plt.show()"
   ]
  },
  {
   "cell_type": "code",
   "execution_count": 20,
   "metadata": {},
   "outputs": [
    {
     "data": {
      "image/png": "[encoded data removed]",
      "text/plain": [
       "<Figure size 864x576 with 2 Axes>"
      ]
     },
     "metadata": {
      "needs_background": "light"
     },
     "output_type": "display_data"
    }
   ],
   "source": [
    "# fig, ax = plt.subplots()\n",
    "f, ((ax1, ax2)) = plt.subplots(1, 2, figsize=(12,8))\n",
    "\n",
    "ax1.barh(df_post[\"word\"][:25],df_post[\"share_word\"][:25], align='center',\n",
    "        color='salmon')\n",
    "ax1.set_yticks(df_post[\"word\"][:25])\n",
    "ax1.invert_yaxis()  # labels read top-to-bottom\n",
    "ax1.set_xlabel('Frequency',fontsize=16)\n",
    "ax1.set_title('Word Frequencis Post-GFC',fontsize=16)\n",
    "\n",
    "ax2.barh(df_pre[\"word\"][:25],df_pre[\"share_word\"][:25], align='center',\n",
    "        color='aquamarine')\n",
    "ax2.set_yticks(df_pre[\"word\"][:25])\n",
    "ax2.invert_yaxis()  # labels read top-to-bottom\n",
    "ax2.set_xlabel('Frequency',fontsize=16)\n",
    "ax2.set_title('Word Frequencis Pre-GFC',fontsize=16)\n",
    "\n",
    "ax1.tick_params(axis = 'both', which = 'major', labelsize = 16)\n",
    "ax2.tick_params(axis = 'both', which = 'major', labelsize = 16)\n",
    "\n",
    "f.tight_layout()\n",
    "plt.show()"
   ]
  },
  {
   "cell_type": "markdown",
   "metadata": {},
   "source": []
  }
 ],
 "metadata": {
  "kernelspec": {
   "display_name": "Python 3",
   "language": "python",
   "name": "python3"
  },
  "language_info": {
   "codemirror_mode": {
    "name": "ipython",
    "version": 3
   },
   "file_extension": ".py",
   "mimetype": "text/x-python",
   "name": "python",
   "nbconvert_exporter": "python",
   "pygments_lexer": "ipython3",
   "version": "3.6.5"
  },
  "varInspector": {
   "cols": {
    "lenName": 16,
    "lenType": 16,
    "lenVar": 40
   },
   "kernels_config": {
    "python": {
     "delete_cmd_postfix": "",
     "delete_cmd_prefix": "del ",
     "library": "var_list.py",
     "varRefreshCmd": "print(var_dic_list())"
    },
    "r": {
     "delete_cmd_postfix": ") ",
     "delete_cmd_prefix": "rm(",
     "library": "var_list.r",
     "varRefreshCmd": "cat(var_dic_list()) "
    }
   },
   "types_to_exclude": [
    "module",
    "function",
    "builtin_function_or_method",
    "instance",
    "_Feature"
   ],
   "window_display": false
  }
 },
 "nbformat": 4,
 "nbformat_minor": 2
}
