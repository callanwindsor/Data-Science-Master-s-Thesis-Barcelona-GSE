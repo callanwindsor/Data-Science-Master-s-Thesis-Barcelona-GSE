{
 "cells": [
  {
   "cell_type": "markdown",
   "metadata": {},
   "source": [
    "# Academic abstract collection"
   ]
  },
  {
   "cell_type": "code",
   "execution_count": 1,
   "metadata": {},
   "outputs": [],
   "source": [
    "# import sys\n",
    "# !{sys.executable} -m pip install Scrapy\n",
    "# !{sys.executable} -m pip install wordcloud\n",
    "from bs4 import BeautifulSoup\n",
    "import requests\n",
    "from bs4 import NavigableString\n",
    "import queue\n",
    "from concurrent.futures import ThreadPoolExecutor\n",
    "import itertools\n",
    "import threading\n",
    "import csv\n",
    "import pandas as pd \n",
    "import matplotlib.pyplot as plt\n",
    "from wordcloud import WordCloud, STOPWORDS\n",
    "import numpy as np\n",
    "import re"
   ]
  },
  {
   "cell_type": "markdown",
   "metadata": {},
   "source": [
    "### Function (1)\n",
    "**Return a list with a link to each paper**\n",
    "* NB: This is for a single page"
   ]
  },
  {
   "cell_type": "code",
   "execution_count": 2,
   "metadata": {},
   "outputs": [],
   "source": [
    "def get_links(soup):  \n",
    "    \n",
    "    papers = []\n",
    "    for paper in soup.findAll(\"li\",class_=\"list-group-item downgate\"):\n",
    "        papers.append(\"https://ideas.repec.org\"+paper.a.get('href'))\n",
    "                \n",
    "    return(papers)"
   ]
  },
  {
   "cell_type": "markdown",
   "metadata": {},
   "source": [
    "### Function (2)\n",
    "**Soup the necessary URL and call Function (1) to return the list of links**"
   ]
  },
  {
   "cell_type": "code",
   "execution_count": 3,
   "metadata": {},
   "outputs": [],
   "source": [
    "def parse_links(START_URL):\n",
    "    \n",
    "    page   = requests.get(START_URL)\n",
    "    soup   = BeautifulSoup(page.text, 'html.parser')\n",
    "    links = get_links(soup)\n",
    "\n",
    "    return links"
   ]
  },
  {
   "cell_type": "code",
   "execution_count": 4,
   "metadata": {},
   "outputs": [],
   "source": [
    "links = parse_links(\"https://ideas.repec.org/s/eee/jmacro.html\")       # Journal of Macroeconomics\n",
    "links.extend(parse_links(\"https://ideas.repec.org/s/eee/jmacro2.html\"))\n",
    "links.extend(parse_links(\"https://ideas.repec.org/s/eee/jmacro3.html\"))\n",
    "links.extend(parse_links(\"https://ideas.repec.org/s/eee/jmacro4.html\"))\n",
    "links.extend(parse_links(\"https://ideas.repec.org/s/eee/jmacro5.html\"))\n",
    "links.extend(parse_links(\"https://ideas.repec.org/s/eee/jmacro6.html\"))\n",
    "links.extend(parse_links(\"https://ideas.repec.org/s/eee/jmacro7.html\"))"
   ]
  },
  {
   "cell_type": "code",
   "execution_count": 5,
   "metadata": {},
   "outputs": [],
   "source": [
    "JME = len(links)"
   ]
  },
  {
   "cell_type": "code",
   "execution_count": 6,
   "metadata": {},
   "outputs": [],
   "source": [
    "links.extend(parse_links(\"https://ideas.repec.org/s/bpj/bejmac.html\")) # The B.E. Journal of Macroeconomics\n",
    "links.extend(parse_links(\"https://ideas.repec.org/s/bpj/bejmac2.html\")) \n",
    "links.extend(parse_links(\"https://ideas.repec.org/s/bpj/bejmac3.html\")) "
   ]
  },
  {
   "cell_type": "code",
   "execution_count": 7,
   "metadata": {},
   "outputs": [
    {
     "name": "stdout",
     "output_type": "stream",
     "text": [
      "BEJME: 581 JME: 1400\n",
      "\n",
      "Total: 1981\n"
     ]
    }
   ],
   "source": [
    "BEJME = len(links) - JME\n",
    "\n",
    "print(\"BEJME:\",BEJME,\"JME:\", JME)\n",
    "print()\n",
    "print(\"Total:\",len(links))"
   ]
  },
  {
   "cell_type": "code",
   "execution_count": 8,
   "metadata": {},
   "outputs": [],
   "source": [
    "def get_abstracts(URL):\n",
    "    \n",
    "    abstracts = []\n",
    "    \n",
    "    page      = requests.get(URL)\n",
    "    soup      = BeautifulSoup(page.text, 'html.parser')\n",
    "    \n",
    "    abstract  = soup.find('div', id='abstract-body').get_text()\n",
    "    \n",
    "    try:\n",
    "        \n",
    "        info      = [desc.strip() for desc in \n",
    "                     soup.find(\"li\",class_=\"list-group-item downgate\").descendants if type(desc) == NavigableString]\n",
    "        \n",
    "        abstracts.append({'Author/s': info[0],'Year': info[0].split()[-2], \n",
    "                      'Title': info[1], 'ID': info[3], 'Abstract': abstract})\n",
    "        \n",
    "    except:\n",
    "        pass\n",
    "    \n",
    "    return abstracts"
   ]
  },
  {
   "cell_type": "code",
   "execution_count": 9,
   "metadata": {},
   "outputs": [
    {
     "data": {
      "text/plain": [
       "1981"
      ]
     },
     "execution_count": 9,
     "metadata": {},
     "output_type": "execute_result"
    }
   ],
   "source": [
    "len(links)"
   ]
  },
  {
   "cell_type": "code",
   "execution_count": 12,
   "metadata": {},
   "outputs": [],
   "source": [
    "with ThreadPoolExecutor(10) as pool:\n",
    "      abstracts = pool.map(get_abstracts, links)\n",
    "\n",
    "aca_abstracts = list(abstracts)"
   ]
  },
  {
   "cell_type": "code",
   "execution_count": 13,
   "metadata": {},
   "outputs": [],
   "source": [
    "with open('macro_data.csv', 'w', newline='') as csvfile:\n",
    "    fieldnames = aca_abstracts[0][0].keys()\n",
    "    writer = csv.DictWriter(csvfile, fieldnames=fieldnames)\n",
    "    writer.writeheader()\n",
    "    for x in range(0,len(aca_abstracts)):\n",
    "        for row in aca_abstracts[x]:\n",
    "            writer.writerow(row)"
   ]
  },
  {
   "cell_type": "code",
   "execution_count": null,
   "metadata": {},
   "outputs": [],
   "source": [
    "# links.extend(parse_links(\"https://ideas.repec.org/s/ucp/jlabec.html\")) #Journal of labour economics\n",
    "# links.extend(parse_links(\"https://ideas.repec.org/s/ucp/jlabec2.html\"))\n",
    "# links.extend(parse_links(\"https://ideas.repec.org/s/ucp/jlabec3.html\"))"
   ]
  },
  {
   "cell_type": "code",
   "execution_count": null,
   "metadata": {},
   "outputs": [],
   "source": [
    "# links.extend(parse_links(\"https://ideas.repec.org/s/eee/jfinec.html\")) # Journal of Financial Economics\n",
    "# links.extend(parse_links(\"https://ideas.repec.org/s/eee/jfinec1.html\"))\n",
    "# links.extend(parse_links(\"https://ideas.repec.org/s/eee/jfinec2.html\"))\n",
    "# links.extend(parse_links(\"https://ideas.repec.org/s/eee/jfinec3.html\"))\n",
    "# links.extend(parse_links(\"https://ideas.repec.org/s/eee/jfinec4.html\"))\n",
    "# links.extend(parse_links(\"https://ideas.repec.org/s/eee/jfinec5.html\"))\n",
    "# links.extend(parse_links(\"https://ideas.repec.org/s/eee/jfinec6.html\"))\n",
    "# links.extend(parse_links(\"https://ideas.repec.org/s/eee/jfinec7.html\"))\n",
    "# links.extend(parse_links(\"https://ideas.repec.org/s/eee/jfinec8.html\"))\n",
    "# links.extend(parse_links(\"https://ideas.repec.org/s/eee/jfinec9.html\"))\n",
    "# links.extend(parse_links(\"https://ideas.repec.org/s/eee/jfinec10.html\"))"
   ]
  },
  {
   "cell_type": "code",
   "execution_count": null,
   "metadata": {},
   "outputs": [],
   "source": [
    "# links.extend(parse_links(\"https://ideas.repec.org/s/eee/moneco.html\")) # Journal of Monetary Economics\n",
    "# links.extend(parse_links(\"https://ideas.repec.org/s/eee/moneco2.html\"))\n",
    "# links.extend(parse_links(\"https://ideas.repec.org/s/eee/moneco3.html\"))\n",
    "# links.extend(parse_links(\"https://ideas.repec.org/s/eee/moneco4.html\"))\n",
    "# links.extend(parse_links(\"https://ideas.repec.org/s/eee/moneco5.html\"))\n",
    "# links.extend(parse_links(\"https://ideas.repec.org/s/eee/moneco6.html\"))\n",
    "# links.extend(parse_links(\"https://ideas.repec.org/s/eee/moneco7.html\"))\n",
    "# links.extend(parse_links(\"https://ideas.repec.org/s/eee/moneco8.html\"))"
   ]
  }
 ],
 "metadata": {
  "kernelspec": {
   "display_name": "Python 3",
   "language": "python",
   "name": "python3"
  },
  "language_info": {
   "codemirror_mode": {
    "name": "ipython",
    "version": 3
   },
   "file_extension": ".py",
   "mimetype": "text/x-python",
   "name": "python",
   "nbconvert_exporter": "python",
   "pygments_lexer": "ipython3",
   "version": "3.6.5"
  },
  "varInspector": {
   "cols": {
    "lenName": 16,
    "lenType": 16,
    "lenVar": 40
   },
   "kernels_config": {
    "python": {
     "delete_cmd_postfix": "",
     "delete_cmd_prefix": "del ",
     "library": "var_list.py",
     "varRefreshCmd": "print(var_dic_list())"
    },
    "r": {
     "delete_cmd_postfix": ") ",
     "delete_cmd_prefix": "rm(",
     "library": "var_list.r",
     "varRefreshCmd": "cat(var_dic_list()) "
    }
   },
   "types_to_exclude": [
    "module",
    "function",
    "builtin_function_or_method",
    "instance",
    "_Feature"
   ],
   "window_display": false
  }
 },
 "nbformat": 4,
 "nbformat_minor": 2
}
